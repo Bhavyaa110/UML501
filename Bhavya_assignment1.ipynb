{
  "cells": [
    {
      "cell_type": "code",
      "execution_count": 4,
      "metadata": {
        "colab": {
          "base_uri": "https://localhost:8080/"
        },
        "id": "NQ7_s2dKlGRf",
        "outputId": "6a83368a-8fac-4ecd-fb51-b1e7c856be3b"
      },
      "outputs": [
        {
          "name": "stdout",
          "output_type": "stream",
          "text": [
            "Reversed: [5 4 6 3 2 1]\n"
          ]
        }
      ],
      "source": [
        "# Question1a\n",
        "import numpy as np\n",
        "arr = np.array([1, 2, 3, 6, 4, 5])\n",
        "print(\"Reversed:\", arr[::-1])\n",
        "\n",
        "\n"
      ]
    },
    {
      "cell_type": "code",
      "execution_count": 5,
      "metadata": {
        "colab": {
          "background_save": true
        },
        "id": "2-hg_90Roolu",
        "outputId": "a1baebe8-189c-4e2c-e37d-ae05a6669e52"
      },
      "outputs": [
        {
          "name": "stdout",
          "output_type": "stream",
          "text": [
            "[1 2 3 2 4 5 1 2 3]\n",
            "[1 2 3 2 4 5 1 2 3]\n"
          ]
        }
      ],
      "source": [
        "# Question1b\n",
        "array1 = np.array([[1, 2, 3], [2, 4, 5], [1, 2, 3]])\n",
        "print(array1.ravel())\n",
        "print(array1.flatten())"
      ]
    },
    {
      "cell_type": "code",
      "execution_count": 6,
      "metadata": {
        "colab": {
          "base_uri": "https://localhost:8080/"
        },
        "id": "bFaISYMVrfSH",
        "outputId": "6302b2e3-86b5-4e02-f79a-f6e26913afdb"
      },
      "outputs": [
        {
          "data": {
            "text/plain": [
              "True"
            ]
          },
          "execution_count": 6,
          "metadata": {},
          "output_type": "execute_result"
        }
      ],
      "source": [
        "#Question1c\n",
        "arr1 = np.array([[1, 2], [3, 4]])\n",
        "arr2 = np.array([[1, 2], [3, 4]])\n",
        "np.array_equal(arr1, arr2)\n"
      ]
    },
    {
      "cell_type": "code",
      "execution_count": 7,
      "metadata": {
        "id": "khdJPpNLorEs"
      },
      "outputs": [
        {
          "name": "stdout",
          "output_type": "stream",
          "text": [
            "Most frequent: 1\n",
            "Indices: (array([0, 5, 7, 8, 9]),)\n"
          ]
        }
      ],
      "source": [
        "# Question1d\n",
        "x = np.array([1,2,3,4,5,1,2,1,1,1])\n",
        "from collections import Counter\n",
        "most_common = Counter(x).most_common(1)[0][0]\n",
        "print(\"Most frequent:\", most_common)\n",
        "print(\"Indices:\", np.where(x == most_common))"
      ]
    },
    {
      "cell_type": "code",
      "execution_count": 8,
      "metadata": {},
      "outputs": [
        {
          "name": "stdout",
          "output_type": "stream",
          "text": [
            "Most frequent: 1\n",
            "Indices: (array([0, 1, 2]),)\n"
          ]
        }
      ],
      "source": [
        "y = np.array([1, 1, 1, 2, 3, 4, 2, 4, 3, 3])\n",
        "from collections import Counter\n",
        "most_common = Counter(y).most_common(1)[0][0]\n",
        "print(\"Most frequent:\", most_common)\n",
        "print(\"Indices:\", np.where(y == most_common))"
      ]
    },
    {
      "cell_type": "code",
      "execution_count": 9,
      "metadata": {
        "id": "4PY1Nouhtiys"
      },
      "outputs": [
        {
          "name": "stdout",
          "output_type": "stream",
          "text": [
            "45\n",
            "[[14]\n",
            " [16]\n",
            " [15]]\n",
            "[[20  9 16]]\n"
          ]
        }
      ],
      "source": [
        "# q1 e\n",
        "gfg = np.matrix('[4, 1, 9; 12, 3, 1; 4, 5, 6]')\n",
        "\n",
        "# i. Sum of all elements\n",
        "total_sum = np.sum(gfg)\n",
        "\n",
        "# ii. Row-wise sum\n",
        "row_sum = np.sum(gfg, axis=1)\n",
        "\n",
        "# iii. Column-wise sum\n",
        "col_sum = np.sum(gfg, axis=0)\n",
        "\n",
        "print(total_sum)\n",
        "print(row_sum)\n",
        "print(col_sum)\n"
      ]
    },
    {
      "cell_type": "code",
      "execution_count": 10,
      "metadata": {},
      "outputs": [
        {
          "name": "stdout",
          "output_type": "stream",
          "text": [
            "Diagonal sum: 176\n",
            "Eigen values: [98.16835147 28.097044   49.73460452]\n",
            "Eigen vectors:\n",
            " [[ 0.4574917   0.34637121 -0.15017693]\n",
            " [ 0.28447814 -0.72784061 -0.4852124 ]\n",
            " [ 0.84248058  0.59184038  0.8614034 ]]\n",
            "Inverse:\n",
            " [[ 0.02404141 -0.00911212 -0.00444671]\n",
            " [-0.01667882  0.02966905  0.0024785 ]\n",
            " [ 0.00631287 -0.01603732  0.01217379]]\n",
            "Determinant: 137180.0000000001\n"
          ]
        }
      ],
      "source": [
        "#q1 f\n",
        "n_array = np.array([[55, 25, 15], [30, 44, 2], [11, 45, 77]])\n",
        "print(\"Diagonal sum:\", np.trace(n_array))\n",
        "print(\"Eigen values:\", np.linalg.eigvals(n_array))\n",
        "eigvals, eigvecs = np.linalg.eig(n_array)\n",
        "print(\"Eigen vectors:\\n\", eigvecs)\n",
        "print(\"Inverse:\\n\", np.linalg.inv(n_array))\n",
        "print(\"Determinant:\", np.linalg.det(n_array))"
      ]
    },
    {
      "cell_type": "code",
      "execution_count": 11,
      "metadata": {},
      "outputs": [
        {
          "name": "stdout",
          "output_type": "stream",
          "text": [
            "[[16 19]\n",
            " [26 31]]\n",
            "[[0.5 0.5 1.  1. ]\n",
            " [0.5 0.5 1.  1. ]\n",
            " [1.  1.  2.  2. ]\n",
            " [1.  1.  2.  2. ]]\n",
            "[[16 19  5]\n",
            " [26 31  8]\n",
            " [46 55 14]]\n",
            "[[2.16666667 0.23333333]\n",
            " [0.23333333 5.36666667]]\n"
          ]
        }
      ],
      "source": [
        "# q1 g\n",
        "# i.\n",
        "p1 = np.array([[1, 2], [2, 3]])\n",
        "q1 = np.array([[4, 5], [6, 7]])\n",
        "product1 = np.dot(p1, q1)\n",
        "cov1 = np.cov(p1.T, q1.T)\n",
        "\n",
        "# ii.\n",
        "p2 = np.array([[1, 2], [2, 3], [4, 5]])\n",
        "q2 = np.array([[4, 5, 1], [6, 7, 2]])\n",
        "product2 = np.dot(p2, q2)\n",
        "cov2 = np.cov(p2.flatten(), q2.flatten())\n",
        "\n",
        "print(product1)\n",
        "print(cov1)\n",
        "print(product2)\n",
        "print(cov2)"
      ]
    },
    {
      "cell_type": "code",
      "execution_count": 12,
      "metadata": {
        "id": "Hwzo6n05t8i4"
      },
      "outputs": [
        {
          "name": "stdout",
          "output_type": "stream",
          "text": [
            "[[17 52]\n",
            " [13 62]]\n",
            "[[ 2 10  0 10 20  6]\n",
            " [ 3 15  0 15 30  9]\n",
            " [ 4 20  0 20 40 12]\n",
            " [ 3 15  0 15 30  9]\n",
            " [ 2 10  0 10 20  6]\n",
            " [ 9 45  0 45 90 27]]\n",
            "[[ 2  1]\n",
            " [ 2  5]\n",
            " [ 2  0]\n",
            " [ 2  5]\n",
            " [ 2 10]\n",
            " [ 2  3]\n",
            " [ 3  1]\n",
            " [ 3  5]\n",
            " [ 3  0]\n",
            " [ 3  5]\n",
            " [ 3 10]\n",
            " [ 3  3]\n",
            " [ 4  1]\n",
            " [ 4  5]\n",
            " [ 4  0]\n",
            " [ 4  5]\n",
            " [ 4 10]\n",
            " [ 4  3]\n",
            " [ 3  1]\n",
            " [ 3  5]\n",
            " [ 3  0]\n",
            " [ 3  5]\n",
            " [ 3 10]\n",
            " [ 3  3]\n",
            " [ 2  1]\n",
            " [ 2  5]\n",
            " [ 2  0]\n",
            " [ 2  5]\n",
            " [ 2 10]\n",
            " [ 2  3]\n",
            " [ 9  1]\n",
            " [ 9  5]\n",
            " [ 9  0]\n",
            " [ 9  5]\n",
            " [ 9 10]\n",
            " [ 9  3]]\n"
          ]
        }
      ],
      "source": [
        "#q1 h\n",
        "x = np.array([[2, 3, 4], [3, 2, 9]])\n",
        "y = np.array([[1, 5, 0], [5, 10, 3]])\n",
        "\n",
        "# Inner product\n",
        "inner = np.inner(x, y)\n",
        "\n",
        "# Outer product (flattened)\n",
        "outer = np.outer(x, y)\n",
        "\n",
        "# Cartesian product\n",
        "cartesian = np.array(np.meshgrid(x.flatten(), y.flatten())).T.reshape(-1, 2)\n",
        "\n",
        "print(inner)\n",
        "print(outer)\n",
        "print(cartesian)\n"
      ]
    },
    {
      "cell_type": "code",
      "execution_count": 13,
      "metadata": {
        "id": "fdqFllMMrOH6"
      },
      "outputs": [
        {
          "name": "stdout",
          "output_type": "stream",
          "text": [
            "[[1 2 3]\n",
            " [4 5 6]]\n",
            "[-3.5 -0.5  2.5]\n",
            "[[-2.75 -0.25 -3.75]\n",
            " [-1.5   1.5  -1.5 ]\n",
            " [-0.25  3.25  0.75]]\n",
            "[[-0.5 -5. ]\n",
            " [ 1.  -4. ]\n",
            " [ 2.   0.5]]\n",
            "-0.5 -0.5 3.8622100754188224\n",
            "[-1.5  1.5 -1.5]\n",
            "[ 0.66666667 -1.66666667]\n"
          ]
        }
      ],
      "source": [
        "# Q2 a\n",
        "array = np.array([[1, -2, 3],[-4, 5, -6]])\n",
        "\n",
        "# i. Absolute\n",
        "abs_array = np.abs(array)\n",
        "\n",
        "# ii. Percentiles\n",
        "flat = array.flatten()\n",
        "percentiles = np.percentile(flat, [25, 50, 75])\n",
        "col_percentiles = np.percentile(array, [25, 50, 75], axis=0)\n",
        "row_percentiles = np.percentile(array, [25, 50, 75], axis=1)\n",
        "\n",
        "print(abs_array)\n",
        "print(percentiles)\n",
        "print(col_percentiles)\n",
        "print(row_percentiles)\n",
        "\n",
        "# iii. Stats\n",
        "mean = np.mean(flat)\n",
        "median = np.median(flat)\n",
        "std = np.std(flat)\n",
        "\n",
        "col_mean = np.mean(array, axis=0)\n",
        "row_mean = np.mean(array, axis=1)\n",
        "\n",
        "print(mean, median, std)\n",
        "print(col_mean)\n",
        "print(row_mean)\n"
      ]
    },
    {
      "cell_type": "code",
      "execution_count": 14,
      "metadata": {
        "id": "FPYH9hmmuPUN"
      },
      "outputs": [
        {
          "name": "stdout",
          "output_type": "stream",
          "text": [
            "[-2. -2. -1.  0.  1.  1.  3.]\n",
            "[-1. -1. -0.  1.  2.  2.  3.]\n",
            "[-1. -1. -0.  0.  1.  1.  3.]\n",
            "[-2. -2. -0.  0.  2.  2.  3.]\n"
          ]
        }
      ],
      "source": [
        "#q2 b\n",
        "a = np.array([-1.8, -1.6, -0.5, 0.5, 1.6, 1.8, 3.0])\n",
        "\n",
        "floor_vals = np.floor(a)\n",
        "ceil_vals = np.ceil(a)\n",
        "trunc_vals = np.trunc(a)\n",
        "round_vals = np.round(a)\n",
        "\n",
        "print(floor_vals)\n",
        "print(ceil_vals)\n",
        "print(trunc_vals)\n",
        "print(round_vals)\n"
      ]
    },
    {
      "cell_type": "code",
      "execution_count": 15,
      "metadata": {
        "id": "mRKDCjUvrUhg"
      },
      "outputs": [
        {
          "name": "stdout",
          "output_type": "stream",
          "text": [
            "Sorted: [ 10  16  16  52  54  62 453]\n",
            "Sorted Indices: [0 3 4 1 5 2 6]\n",
            "4 Smallest: [10 16 16 52]\n",
            "5 Largest: [ 16  52  54  62 453]\n"
          ]
        }
      ],
      "source": [
        "# Q3 a\n",
        "a = np.array([10, 52, 62, 16, 16, 54, 453])\n",
        "print(\"Sorted:\", np.sort(a))\n",
        "print(\"Sorted Indices:\", np.argsort(a))\n",
        "print(\"4 Smallest:\", np.sort(a)[:4])\n",
        "print(\"5 Largest:\", np.sort(a)[-5:])"
      ]
    },
    {
      "cell_type": "code",
      "execution_count": 16,
      "metadata": {},
      "outputs": [
        {
          "name": "stdout",
          "output_type": "stream",
          "text": [
            "Integers: [1. 2. 3. 2.]\n",
            "Floats: [1.2 2.2]\n"
          ]
        }
      ],
      "source": [
        "#Q3 b\n",
        "b = np.array([1.0, 1.2, 2.2, 2.0, 3.0, 2.0])\n",
        "print(\"Integers:\", b[b == b.astype(int)])\n",
        "print(\"Floats:\", b[b != b.astype(int)])"
      ]
    },
    {
      "cell_type": "code",
      "execution_count": null,
      "metadata": {},
      "outputs": [],
      "source": [
        "#q4 a\n",
        "import numpy as np\n",
        "from PIL import Image\n",
        "\n",
        "def img_to_array(path):\n",
        "    img = Image.open(path)\n",
        "    arr = np.array(img)\n",
        "    \n",
        "    if len(arr.shape) == 2:  # Grayscale\n",
        "        np.savetxt(\"grayscale_image.txt\", arr, fmt='%d')\n",
        "        print(\"Saved as grayscale_image.txt\")\n",
        "    elif len(arr.shape) == 3 and arr.shape[2] == 3:  # RGB\n",
        "        arr_reshaped = arr.reshape(-1, 3)\n",
        "        np.savetxt(\"rgb_image.txt\", arr_reshaped, fmt='%d')\n",
        "        print(\"Saved as rgb_image.txt\")\n",
        "    else:\n",
        "        print(\"Unsupported image format\")\n",
        "\n",
        "\n",
        "img_to_array(\"your_image_path_here.jpg\")"
      ]
    },
    {
      "cell_type": "code",
      "execution_count": null,
      "metadata": {},
      "outputs": [],
      "source": [
        "#q4 b\n",
        "# For grayscale\n",
        "grayscale = np.loadtxt(\"grayscale_image.txt\", dtype=int)\n",
        "print(grayscale)\n",
        "\n",
        "# For RGB\n",
        "rgb = np.loadtxt(\"rgb_image.txt\", dtype=int).reshape(-1, 3)\n",
        "print(rgb)"
      ]
    }
  ],
  "metadata": {
    "colab": {
      "provenance": []
    },
    "kernelspec": {
      "display_name": "Python 3",
      "name": "python3"
    },
    "language_info": {
      "codemirror_mode": {
        "name": "ipython",
        "version": 3
      },
      "file_extension": ".py",
      "mimetype": "text/x-python",
      "name": "python",
      "nbconvert_exporter": "python",
      "pygments_lexer": "ipython3",
      "version": "3.11.9"
    }
  },
  "nbformat": 4,
  "nbformat_minor": 0
}
